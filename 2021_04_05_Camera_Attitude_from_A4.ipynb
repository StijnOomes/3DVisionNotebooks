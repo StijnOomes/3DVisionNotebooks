{
  "nbformat": 4,
  "nbformat_minor": 0,
  "metadata": {
    "colab": {
      "name": "2021_04_05_Camera_Attitude_from_A4.ipynb",
      "provenance": [],
      "authorship_tag": "ABX9TyPhAk6zxxbLpcfZlq3I1wz4",
      "include_colab_link": true
    },
    "kernelspec": {
      "name": "python3",
      "display_name": "Python 3"
    },
    "language_info": {
      "name": "python"
    }
  },
  "cells": [
    {
      "cell_type": "markdown",
      "metadata": {
        "id": "view-in-github",
        "colab_type": "text"
      },
      "source": [
        "<a href=\"https://colab.research.google.com/github/StijnOomes/3DVisionNotebooks/blob/main/2021_04_05_Camera_Attitude_from_A4.ipynb\" target=\"_parent\"><img src=\"https://colab.research.google.com/assets/colab-badge.svg\" alt=\"Open In Colab\"/></a>"
      ]
    },
    {
      "cell_type": "markdown",
      "metadata": {
        "id": "ny2ziBkmluQ9"
      },
      "source": [
        "# Camera attitude from A4 paper\n",
        "\n",
        "\n",
        "[Stijn Oomes](https://www.StijnOomes.com)\n",
        "\n",
        "Monday 5 April 2021\n"
      ]
    },
    {
      "cell_type": "code",
      "metadata": {
        "colab": {
          "base_uri": "https://localhost:8080/"
        },
        "id": "DnC6qF01lspN",
        "outputId": "59b8ce5b-d200-4666-eda7-ee54c741265c"
      },
      "source": [
        "1+2"
      ],
      "execution_count": 2,
      "outputs": [
        {
          "output_type": "execute_result",
          "data": {
            "text/plain": [
              "3"
            ]
          },
          "metadata": {
            "tags": []
          },
          "execution_count": 2
        }
      ]
    }
  ]
}